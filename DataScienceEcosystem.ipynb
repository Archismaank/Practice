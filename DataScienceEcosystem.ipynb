{
 "cells": [
  {
   "cell_type": "markdown",
   "id": "1184fc85-6d7b-4fab-a8b5-a013358d5573",
   "metadata": {},
   "source": [
    "# Data Science Tools and Ecosystem"
   ]
  },
  {
   "cell_type": "markdown",
   "id": "ce8fdbd5-323e-4daa-bf7f-5dce0aba0515",
   "metadata": {},
   "source": [
    "In this notebook, Data Science Tools and Ecosystem are summarized."
   ]
  },
  {
   "cell_type": "markdown",
   "id": "c96788d3-d002-4ffb-a57f-4ee9304125cd",
   "metadata": {},
   "source": [
    "Some of the popular languages that Data Scientists use are:\n",
    "1. Python\n",
    "2. R\n",
    "3. SQL"
   ]
  },
  {
   "cell_type": "markdown",
   "id": "1781aa4c-e845-407e-8ac7-41181b3ec405",
   "metadata": {},
   "source": [
    "Some of the community used libraries used by Data Scientists include:\n",
    "1. Pandas\n",
    "2. Numpy\n",
    "3. GGally"
   ]
  },
  {
   "cell_type": "markdown",
   "id": "df745d7a-f261-4495-9a19-d7d76d239acf",
   "metadata": {},
   "source": [
    "| Data Science Tools |\n",
    "| ------------------ |\n"
   ]
  },
  {
   "cell_type": "markdown",
   "id": "89518c1d-c23f-4a3c-804b-44cc5030a33f",
   "metadata": {},
   "source": [
    "### Below are a few examples of evaluatng expression in Python"
   ]
  },
  {
   "cell_type": "code",
   "execution_count": 2,
   "id": "40df2518-e13d-4eec-a23d-fdb8d331d212",
   "metadata": {},
   "outputs": [
    {
     "data": {
      "text/plain": [
       "17"
      ]
     },
     "execution_count": 2,
     "metadata": {},
     "output_type": "execute_result"
    }
   ],
   "source": [
    "(3*4)+5\n",
    "# This a simple arithmetic expression to multiply then add integers."
   ]
  },
  {
   "cell_type": "code",
   "execution_count": 7,
   "id": "149890be-6c02-4226-990c-2d7797f153e8",
   "metadata": {},
   "outputs": [
    {
     "name": "stdout",
     "output_type": "stream",
     "text": [
      "3\n",
      "3.3333333333333335\n"
     ]
    }
   ],
   "source": [
    "# This will convert 200 minutes to hours by dividing by 60.\n",
    "a = 200\n",
    "b = (int)(a/60)\n",
    "c = a/60\n",
    "print(b)\n",
    "print(c)"
   ]
  },
  {
   "cell_type": "markdown",
   "id": "e069f2d5-e558-4346-8ce6-4d84bc15d503",
   "metadata": {},
   "source": [
    "__Objectives:__\n",
    "+ Python\n",
    "+ R\n",
    "+ Julia\n",
    "+ SQL\n",
    "+ Scala"
   ]
  },
  {
   "cell_type": "markdown",
   "id": "9da62768-e517-4853-aa98-25f488d86efa",
   "metadata": {},
   "source": [
    "## Author\n",
    "Archismaan Kashyap"
   ]
  }
 ],
 "metadata": {
  "kernelspec": {
   "display_name": "Python 3 (ipykernel)",
   "language": "python",
   "name": "python3"
  },
  "language_info": {
   "codemirror_mode": {
    "name": "ipython",
    "version": 3
   },
   "file_extension": ".py",
   "mimetype": "text/x-python",
   "name": "python",
   "nbconvert_exporter": "python",
   "pygments_lexer": "ipython3",
   "version": "3.12.7"
  }
 },
 "nbformat": 4,
 "nbformat_minor": 5
}
